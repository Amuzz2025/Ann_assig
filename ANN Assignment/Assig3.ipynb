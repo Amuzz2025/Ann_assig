{
 "cells": [
  {
   "cell_type": "code",
   "execution_count": 1,
   "id": "5726992e",
   "metadata": {},
   "outputs": [
    {
     "name": "stdout",
     "output_type": "stream",
     "text": [
      "Predicted Output:\n",
      "[[0.04893207]\n",
      " [0.49762509]\n",
      " [0.94117265]\n",
      " [0.50607058]]\n"
     ]
    }
   ],
   "source": [
    "import numpy as np\n",
    "\n",
    "# Activation functions and their derivatives\n",
    "def sigmoid(x):\n",
    "    return 1 / (1 + np.exp(-x))\n",
    "\n",
    "def sigmoid_derivative(x):\n",
    "    return x * (1 - x)\n",
    "\n",
    "# Define the NeuralNetwork class\n",
    "class NeuralNetwork:\n",
    "    def __init__(self, input_size, hidden_size, output_size):\n",
    "        # Initialize weights and biases randomly\n",
    "        self.weights_input_hidden = np.random.uniform(size=(input_size, hidden_size))\n",
    "        self.bias_hidden = np.random.uniform(size=(1, hidden_size))\n",
    "        self.weights_hidden_output = np.random.uniform(size=(hidden_size, output_size))\n",
    "        self.bias_output = np.random.uniform(size=(1, output_size))\n",
    "        \n",
    "    def forward(self, X):\n",
    "        # Forward pass\n",
    "        self.hidden_layer_input = np.dot(X, self.weights_input_hidden) + self.bias_hidden\n",
    "        self.hidden_layer_output = sigmoid(self.hidden_layer_input)\n",
    "        \n",
    "        self.output_layer_input = np.dot(self.hidden_layer_output, self.weights_hidden_output) + self.bias_output\n",
    "        self.predicted_output = sigmoid(self.output_layer_input)\n",
    "        return self.predicted_output\n",
    "    \n",
    "    def backward(self, X, Y, learning_rate):\n",
    "        # Backward pass\n",
    "        error = Y - self.predicted_output\n",
    "        d_predicted_output = error * sigmoid_derivative(self.predicted_output)\n",
    "        \n",
    "        error_hidden_layer = d_predicted_output.dot(self.weights_hidden_output.T)\n",
    "        d_hidden_layer = error_hidden_layer * sigmoid_derivative(self.hidden_layer_output)\n",
    "        \n",
    "        # Update weights and biases\n",
    "        self.weights_hidden_output += self.hidden_layer_output.T.dot(d_predicted_output) * learning_rate\n",
    "        self.bias_output += np.sum(d_predicted_output, axis=0, keepdims=True) * learning_rate\n",
    "        \n",
    "        self.weights_input_hidden += X.T.dot(d_hidden_layer) * learning_rate\n",
    "        self.bias_hidden += np.sum(d_hidden_layer, axis=0, keepdims=True) * learning_rate\n",
    "\n",
    "# XOR input dataset\n",
    "X = np.array([[0, 0],\n",
    "              [0, 1],\n",
    "              [1, 0],\n",
    "              [1, 1]])\n",
    "\n",
    "# XOR output dataset\n",
    "Y = np.array([[0],\n",
    "              [1],\n",
    "              [1],\n",
    "              [0]])\n",
    "\n",
    "# Define the neural network with input size=2, hidden layer size=2, and output size=1\n",
    "neural_network = NeuralNetwork(2, 2, 1)\n",
    "\n",
    "# Training parameters\n",
    "learning_rate = 0.1\n",
    "epochs = 10000\n",
    "\n",
    "# Train the neural network\n",
    "for _ in range(epochs):\n",
    "    neural_network.forward(X)\n",
    "    neural_network.backward(X, Y, learning_rate)\n",
    "\n",
    "# Testing the trained network\n",
    "predicted_output = neural_network.forward(X)\n",
    "print(\"Predicted Output:\")\n",
    "print(predicted_output)\n"
   ]
  },
  {
   "cell_type": "code",
   "execution_count": null,
   "id": "3e47a9f6",
   "metadata": {},
   "outputs": [],
   "source": []
  }
 ],
 "metadata": {
  "kernelspec": {
   "display_name": "Python 3 (ipykernel)",
   "language": "python",
   "name": "python3"
  },
  "language_info": {
   "codemirror_mode": {
    "name": "ipython",
    "version": 3
   },
   "file_extension": ".py",
   "mimetype": "text/x-python",
   "name": "python",
   "nbconvert_exporter": "python",
   "pygments_lexer": "ipython3",
   "version": "3.11.5"
  }
 },
 "nbformat": 4,
 "nbformat_minor": 5
}
